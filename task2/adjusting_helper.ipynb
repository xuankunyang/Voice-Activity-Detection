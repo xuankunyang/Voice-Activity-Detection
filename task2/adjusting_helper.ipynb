{
 "cells": [
  {
   "cell_type": "code",
   "execution_count": 40,
   "id": "589e75cf",
   "metadata": {},
   "outputs": [
    {
     "name": "stdout",
     "output_type": "stream",
     "text": [
      "[2.55506469e-06 3.19611592e-01 5.24350442e-03 6.72268908e+01\n",
      " 2.82836564e-03 2.86179125e-03 1.84143346e-03 7.17768580e-04\n",
      " 2.09934665e-04 1.68550287e-04]\n",
      "[6.08204844e-04 1.94210526e+01 6.34123781e-02 2.53968254e+02\n",
      " 6.33292761e-01 2.42045096e+00 2.53822563e+00 1.42631352e+00\n",
      " 6.16667050e-01 2.96816342e-01]\n"
     ]
    }
   ],
   "source": [
    "import numpy as np\n",
    "\n",
    "data = np.load('../task2/features_voiced_and_unvoiced/length_2048_step_512.npz')\n",
    "\n",
    "X_voiced = data['features_voiced']\n",
    "X_unvoiced = data['features_unvoiced']\n",
    "\n",
    "mid1 = np.percentile(X_voiced, 0.5, axis=0)\n",
    "mid2 = np.percentile(X_unvoiced, 95, axis=0)\n",
    "\n",
    "print(mid1)\n",
    "print(mid2)"
   ]
  }
 ],
 "metadata": {
  "kernelspec": {
   "display_name": "mypytorch",
   "language": "python",
   "name": "python3"
  },
  "language_info": {
   "codemirror_mode": {
    "name": "ipython",
    "version": 3
   },
   "file_extension": ".py",
   "mimetype": "text/x-python",
   "name": "python",
   "nbconvert_exporter": "python",
   "pygments_lexer": "ipython3",
   "version": "3.12.0"
  }
 },
 "nbformat": 4,
 "nbformat_minor": 5
}
