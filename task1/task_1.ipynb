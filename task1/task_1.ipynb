{
 "cells": [
  {
   "cell_type": "code",
   "execution_count": 28,
   "id": "66ef1045",
   "metadata": {},
   "outputs": [],
   "source": [
    "import numpy as np\n",
    "from pathlib import Path\n",
    "import librosa\n",
    "from evaluate import get_metrics\n",
    "from vad_utils import prediction_to_vad_label\n",
    "from vad_utils import read_label_from_file\n",
    "from rich.progress import track\n",
    "from tqdm import tqdm\n",
    "from audio_file_process import process_audio_file_traning\n"
   ]
  },
  {
   "cell_type": "markdown",
   "id": "2cd6141b",
   "metadata": {},
   "source": [
    "# Parameters setting\n",
    "- The frame size(time) /s\n",
    "- The frame shift(time) /s\n",
    "- The number of subbands\n",
    "- Take smooth or not\n",
    "- Smooth method\n",
    "- Take pre_emphasis or not\n",
    "- Alpha in pre_emphasis"
   ]
  },
  {
   "cell_type": "code",
   "execution_count": 29,
   "id": "b312d1df",
   "metadata": {},
   "outputs": [],
   "source": [
    "frame_size = float(0.128)\n",
    "frame_shift = float(0.032)\n",
    "num_subbands = int(6)\n",
    "smooth = bool(1)\n",
    "smooth_type = str('medfilt')\n",
    "pre_emphasis = bool(1)\n",
    "alpha = float(0.97)\n",
    "sampling_rate = int(16000)\n",
    "frame_length = int(sampling_rate * frame_size)\n",
    "frame_step = int(sampling_rate * frame_shift)"
   ]
  },
  {
   "cell_type": "markdown",
   "id": "eb105dbe",
   "metadata": {},
   "source": [
    "# Obtain the labels of training data\n",
    "**注意，这里可能是测试的version**"
   ]
  },
  {
   "cell_type": "code",
   "execution_count": 30,
   "id": "ac2b889c",
   "metadata": {},
   "outputs": [],
   "source": [
    "train_audio_dir = Path('../vad/wavs/dev')\n",
    "train_label_path = '../vad/data/dev_label.txt'\n",
    "\n",
    "labels_dict = read_label_from_file(train_label_path, frame_size, frame_shift)"
   ]
  },
  {
   "cell_type": "code",
   "execution_count": null,
   "id": "d1e7793a",
   "metadata": {},
   "outputs": [
    {
     "name": "stderr",
     "output_type": "stream",
     "text": [
      "Processing audio files: 100%|██████████| 500/500 [32:43<00:00,  3.93s/file]"
     ]
    },
    {
     "name": "stdout",
     "output_type": "stream",
     "text": [
      "218249\n",
      "(6,)\n",
      "218249\n",
      "218249\n",
      "218249\n",
      "218249\n"
     ]
    },
    {
     "name": "stderr",
     "output_type": "stream",
     "text": [
      "\n"
     ]
    }
   ],
   "source": [
    "all_energies = []\n",
    "all_zcr = []\n",
    "all_freq_centers = []\n",
    "all_f0 = []\n",
    "all_labels = []\n",
    "all_subband_energies = np.empty((num_subbands, ), dtype=object)\n",
    "\n",
    "for i in range(num_subbands):\n",
    "    all_subband_energies[i] = []\n",
    "\n",
    "audio_files = list(train_audio_dir.glob(\"*.wav\"))\n",
    "\n",
    "for audio_file in tqdm(audio_files, desc=\"Processing audio files\", unit=\"file\"):\n",
    "    features, labels = process_audio_file_traning(label_dict=labels_dict, audio_path=str(audio_file), \n",
    "                                        frame_length=frame_length, frame_step=frame_step, \n",
    "                                        num_subbands=num_subbands, alpha=alpha, \n",
    "                                        smooth=smooth, sampling_rate=sampling_rate, \n",
    "                                        smooth_type=smooth_type, window='hanning')\n",
    "\n",
    "    if len(labels) > 0:\n",
    "        all_energies.extend(features['energies'])\n",
    "        all_freq_centers.extend(features['freq_centers'])\n",
    "        all_zcr.extend(features['zcrs'])\n",
    "        for i in range(num_subbands):\n",
    "            all_subband_energies[i].extend(features['subband_energies'][i])\n",
    "        all_f0.extend(features['f0'])\n",
    "        all_labels.extend(labels)\n",
    "\n",
    "print(len(all_energies))\n",
    "print(all_subband_energies.shape)\n",
    "print(len(all_zcr))\n",
    "print(len(all_f0))\n",
    "print(len(all_freq_centers))\n",
    "print(len(all_labels))"
   ]
  },
  {
   "cell_type": "markdown",
   "id": "4c28d79c",
   "metadata": {},
   "source": [
    "# Save the features"
   ]
  },
  {
   "cell_type": "code",
   "execution_count": 32,
   "id": "a7c646a9",
   "metadata": {},
   "outputs": [],
   "source": [
    "X = [all_energies, all_zcr, all_freq_centers, all_f0]\n",
    "for i in range(num_subbands):\n",
    "    X.append(all_subband_energies[i])\n",
    "\n",
    "X = np.array(X).T\n",
    "y = np.array(all_labels)"
   ]
  },
  {
   "cell_type": "code",
   "execution_count": 33,
   "id": "f273fbfd",
   "metadata": {},
   "outputs": [],
   "source": [
    "np.save('features/length_{}_step_{}.npy'.format(frame_length, frame_step), X)"
   ]
  },
  {
   "cell_type": "markdown",
   "id": "74cc9e57",
   "metadata": {},
   "source": [
    "# Data processing\n",
    "- Considering std\n",
    "- Dropping the NaNs"
   ]
  },
  {
   "cell_type": "code",
   "execution_count": 34,
   "id": "6aa1646c",
   "metadata": {},
   "outputs": [],
   "source": [
    "from sklearn.model_selection import train_test_split\n",
    "from sklearn.impute import SimpleImputer\n",
    "\n",
    "imputer = SimpleImputer(strategy='mean')\n",
    "\n",
    "X = imputer.fit_transform(X)\n",
    "\n",
    "X_train, X_test, y_train, y_test = train_test_split(X, y, test_size=0.25, shuffle=True)\n"
   ]
  },
  {
   "cell_type": "code",
   "execution_count": null,
   "id": "30d88b47",
   "metadata": {},
   "outputs": [],
   "source": [
    "from sklearn.metrics import accuracy_score\n",
    "from sklearn.svm import LinearSVC\n",
    "\n",
    "\n",
    "clf = LinearSVC(C=1, verbose=2)\n",
    "\n",
    "clf.fit(X_train, y_train)\n",
    "\n",
    "y_pred = clf.predict(X_test)\n",
    "\n",
    "print(accuracy_score(y_test, y_pred))\n",
    "\n",
    "auc, eer = get_metrics(prediction=y_pred, label=y_test)\n",
    "print(auc, eer)\n"
   ]
  },
  {
   "cell_type": "markdown",
   "id": "4b6ab87f",
   "metadata": {},
   "source": [
    "# Test"
   ]
  },
  {
   "cell_type": "code",
   "execution_count": null,
   "id": "d65c98bf",
   "metadata": {},
   "outputs": [],
   "source": [
    "import matplotlib.pyplot as plt\n",
    "\n",
    "audio_path = '../vad/wavs/dev/54-121080-0009.wav'\n",
    "audio_key = Path(audio_path).stem\n",
    "\n",
    "feature, label = process_audio_file_traning(label_dict=labels_dict, audio_path=str(audio_path), \n",
    "                                        num_subbands=num_subbands, alpha=alpha, \n",
    "                                        frame_length=frame_length, frame_step=frame_step, \n",
    "                                        smooth=smooth, smooth_type=smooth_type, window='hann')\n",
    "\n",
    "energies = []\n",
    "freq_centers = []\n",
    "zcr = []\n",
    "f0 = []\n",
    "subband_energies = np.empty((num_subbands, ), dtype=object)\n",
    "\n",
    "for i in range(num_subbands):\n",
    "    subband_energies[i] = []\n",
    "\n",
    "\n",
    "if len(label) > 0:\n",
    "    energies.extend(feature['energies'])\n",
    "    freq_centers.extend(feature['freq_centers'])\n",
    "    zcr.extend(feature['zcrs'])\n",
    "    for i in range(num_subbands):\n",
    "        subband_energies[i].extend(feature['subband_energies'][i])\n",
    "    f0.extend(feature['f0'])\n",
    "\n",
    "x = [energies, zcr, freq_centers, f0]\n",
    "for i in range(num_subbands):\n",
    "    x.append(subband_energies[i])\n",
    "\n",
    "x = np.array(x).T\n",
    "\n",
    "x = imputer.fit_transform(x)\n",
    "\n",
    "pred = clf.predict(x)\n"
   ]
  },
  {
   "cell_type": "code",
   "execution_count": 37,
   "id": "d98f5629",
   "metadata": {},
   "outputs": [],
   "source": [
    "def deframe(x_framed, win_len, hop_len):\n",
    "    '''\n",
    "        interpolates 1D data with framed alignments into persample values.\n",
    "        This function helps as a visual aid and can also be used to change \n",
    "        frame-rate for features, e.g. energy, zero-crossing, etc.\n",
    "        '''\n",
    "    n_frames = len(x_framed)\n",
    "    n_samples = n_frames*hop_len + win_len\n",
    "    x_samples = np.zeros((n_samples,1))\n",
    "    for i in range(n_frames):\n",
    "        x_samples[i*hop_len : i*hop_len + win_len] = x_framed[i]\n",
    "    return x_samples\n"
   ]
  },
  {
   "cell_type": "code",
   "execution_count": 38,
   "id": "e6dfa33f",
   "metadata": {},
   "outputs": [
    {
     "data": {
      "text/plain": [
       "[<matplotlib.lines.Line2D at 0x244810da450>]"
      ]
     },
     "execution_count": 38,
     "metadata": {},
     "output_type": "execute_result"
    },
    {
     "data": {
      "image/png": "[encoded data removed]",
      "text/plain": [
       "<Figure size 640x480 with 1 Axes>"
      ]
     },
     "metadata": {},
     "output_type": "display_data"
    }
   ],
   "source": [
    "audio, sampling_rate = librosa.load(audio_path, sr = None, )\n",
    "\n",
    "plt.plot(audio)\n",
    "s = deframe(pred, frame_length, frame_step)\n",
    "plt.plot(s)"
   ]
  },
  {
   "cell_type": "code",
   "execution_count": null,
   "id": "70c1fba9",
   "metadata": {},
   "outputs": [],
   "source": [
    "import h5py\n",
    "import numpy as np\n",
    "\n",
    "params = {'frame_size': frame_size, 'frame_shift': frame_shift, 'num_subbands':num_subbands, \n",
    "          'smooth':smooth, 'smooth_type':smooth_type, 'pre_emphasis':pre_emphasis, 'alpha':alpha}\n",
    "\n",
    "with h5py.File('features/f{}_f{}_n{}_s{}_s{}_p{}_a{}'.format(frame_size, frame_shift, num_subbands, \n",
    "                                                             smooth, smooth_type, pre_emphasis, alpha), 'w') as f:\n",
    "    f.create_dataset('features', data=X)\n",
    "\n",
    "    for key, value in params.items():\n",
    "        f.attrs[key] = value"
   ]
  },
  {
   "cell_type": "code",
   "execution_count": null,
   "id": "29f474d2",
   "metadata": {},
   "outputs": [],
   "source": [
    "with h5py.File('features/f{}_f{}_n{}_s{}_s{}_p{}_a{}'.format(frame_size, frame_shift, num_subbands, \n",
    "                                                             smooth, smooth_type, pre_emphasis, alpha), 'r') as f:\n",
    "    features = f['features'][:]\n",
    "    params = {key: f.attrs[key] for key in f.attrs}\n",
    "\n",
    "print(\"Features:\", features)\n",
    "print(\"Params:\", params)"
   ]
  }
 ],
 "metadata": {
  "kernelspec": {
   "display_name": "mypytorch",
   "language": "python",
   "name": "python3"
  },
  "language_info": {
   "codemirror_mode": {
    "name": "ipython",
    "version": 3
   },
   "file_extension": ".py",
   "mimetype": "text/x-python",
   "name": "python",
   "nbconvert_exporter": "python",
   "pygments_lexer": "ipython3",
   "version": "3.12.0"
  }
 },
 "nbformat": 4,
 "nbformat_minor": 5
}
